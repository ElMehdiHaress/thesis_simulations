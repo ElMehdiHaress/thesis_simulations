{
 "cells": [
  {
   "cell_type": "code",
   "execution_count": 1,
   "metadata": {},
   "outputs": [
    {
     "name": "stderr",
     "output_type": "stream",
     "text": [
      "  0%|          | 0/10 [00:00<?, ?it/s]\n",
      "  0%|          | 0/10 [00:00<?, ?it/s]\u001b[A\n",
      " 10%|█         | 1/10 [00:09<01:28,  9.80s/it]\u001b[A\n",
      " 20%|██        | 2/10 [00:19<01:17,  9.72s/it]\u001b[A\n",
      " 30%|███       | 3/10 [00:28<01:07,  9.70s/it]\u001b[A\n",
      " 40%|████      | 4/10 [00:38<00:57,  9.66s/it]\u001b[A\n",
      " 50%|█████     | 5/10 [00:48<00:49,  9.85s/it]\u001b[A\n",
      " 60%|██████    | 6/10 [00:58<00:39,  9.79s/it]\u001b[A\n",
      " 70%|███████   | 7/10 [01:08<00:29,  9.83s/it]\u001b[A\n",
      " 80%|████████  | 8/10 [01:18<00:19,  9.86s/it]\u001b[A\n",
      " 90%|█████████ | 9/10 [01:28<00:09,  9.83s/it]\u001b[A\n",
      "100%|██████████| 10/10 [01:37<00:00,  9.77s/it]\u001b[A\n"
     ]
    },
    {
     "name": "stdout",
     "output_type": "stream",
     "text": [
      "0.0003438771281114177\n",
      "5.336642831880376e-05\n",
      "3.6557440001022056e-05\n",
      "8.77805000011143e-06\n",
      "5.569600000145298e-06\n"
     ]
    },
    {
     "name": "stderr",
     "output_type": "stream",
     "text": [
      " 10%|█         | 1/10 [02:32<22:49, 152.20s/it]\n",
      "  0%|          | 0/10 [00:00<?, ?it/s]\u001b[A"
     ]
    },
    {
     "name": "stdout",
     "output_type": "stream",
     "text": [
      "1.2500000000673354e-06\n"
     ]
    },
    {
     "name": "stderr",
     "output_type": "stream",
     "text": [
      "\n",
      " 10%|█         | 1/10 [00:10<01:33, 10.41s/it]\u001b[A\n",
      " 20%|██        | 2/10 [00:20<01:22, 10.35s/it]\u001b[A\n",
      " 30%|███       | 3/10 [00:30<01:12, 10.36s/it]\u001b[A\n",
      " 40%|████      | 4/10 [00:41<01:01, 10.27s/it]\u001b[A\n",
      " 50%|█████     | 5/10 [00:50<00:50, 10.08s/it]\u001b[A\n",
      " 60%|██████    | 6/10 [01:00<00:40, 10.09s/it]\u001b[A\n",
      " 70%|███████   | 7/10 [01:10<00:30, 10.10s/it]\u001b[A\n",
      " 80%|████████  | 8/10 [01:21<00:20, 10.22s/it]\u001b[A\n",
      " 90%|█████████ | 9/10 [01:31<00:10, 10.21s/it]\u001b[A\n",
      "100%|██████████| 10/10 [01:41<00:00, 10.16s/it]\u001b[A\n"
     ]
    },
    {
     "name": "stdout",
     "output_type": "stream",
     "text": [
      "0.0004926573975377811\n",
      "0.00011981801438655531\n",
      "4.8207327973567366e-05\n",
      "6.408200000227196e-06\n",
      "4.622500000017108e-06\n"
     ]
    },
    {
     "name": "stderr",
     "output_type": "stream",
     "text": [
      " 20%|██        | 2/10 [05:09<20:28, 153.61s/it]\n",
      "  0%|          | 0/10 [00:00<?, ?it/s]\u001b[A"
     ]
    },
    {
     "name": "stdout",
     "output_type": "stream",
     "text": [
      "1.0124999999965609e-06\n"
     ]
    },
    {
     "name": "stderr",
     "output_type": "stream",
     "text": [
      "\n",
      " 10%|█         | 1/10 [00:09<01:27,  9.75s/it]\u001b[A\n",
      " 20%|██        | 2/10 [00:19<01:18,  9.81s/it]\u001b[A\n",
      " 30%|███       | 3/10 [00:29<01:08,  9.80s/it]\u001b[A\n",
      " 40%|████      | 4/10 [00:39<00:58,  9.77s/it]\u001b[A\n",
      " 50%|█████     | 5/10 [00:48<00:48,  9.73s/it]\u001b[A\n",
      " 60%|██████    | 6/10 [00:58<00:38,  9.70s/it]\u001b[A\n",
      " 70%|███████   | 7/10 [01:08<00:29,  9.69s/it]\u001b[A\n",
      " 80%|████████  | 8/10 [01:17<00:19,  9.66s/it]\u001b[A\n",
      " 90%|█████████ | 9/10 [01:27<00:09,  9.63s/it]\u001b[A\n",
      "100%|██████████| 10/10 [01:36<00:00,  9.69s/it]\u001b[A\n"
     ]
    },
    {
     "name": "stdout",
     "output_type": "stream",
     "text": [
      "0.00034930793688305045\n",
      "0.00011529599737348174\n",
      "5.225796001765688e-05\n",
      "8.528450016013158e-06\n",
      "3.9203999999982074e-06\n"
     ]
    },
    {
     "name": "stderr",
     "output_type": "stream",
     "text": [
      " 30%|███       | 3/10 [07:38<17:46, 152.39s/it]\n",
      "  0%|          | 0/10 [00:00<?, ?it/s]\u001b[A"
     ]
    },
    {
     "name": "stdout",
     "output_type": "stream",
     "text": [
      "8.820000000002612e-07\n"
     ]
    },
    {
     "name": "stderr",
     "output_type": "stream",
     "text": [
      "\n",
      " 10%|█         | 1/10 [00:09<01:26,  9.63s/it]\u001b[A\n",
      " 20%|██        | 2/10 [00:19<01:17,  9.63s/it]\u001b[A\n",
      " 30%|███       | 3/10 [00:28<01:07,  9.60s/it]\u001b[A\n",
      " 40%|████      | 4/10 [00:38<00:57,  9.62s/it]\u001b[A\n",
      " 50%|█████     | 5/10 [00:47<00:47,  9.59s/it]\u001b[A\n",
      " 60%|██████    | 6/10 [00:57<00:38,  9.58s/it]\u001b[A\n",
      " 70%|███████   | 7/10 [01:07<00:28,  9.57s/it]\u001b[A\n",
      " 80%|████████  | 8/10 [01:16<00:19,  9.55s/it]\u001b[A\n",
      " 90%|█████████ | 9/10 [01:26<00:09,  9.55s/it]\u001b[A\n",
      "100%|██████████| 10/10 [01:35<00:00,  9.57s/it]\u001b[A\n"
     ]
    },
    {
     "name": "stdout",
     "output_type": "stream",
     "text": [
      "0.00019266853505483164\n",
      "9.772616105637876e-05\n",
      "3.81415210110938e-05\n",
      "7.182050001160648e-06\n",
      "5.034738734693963e-06\n"
     ]
    },
    {
     "name": "stderr",
     "output_type": "stream",
     "text": [
      " 40%|████      | 4/10 [10:06<15:06, 151.12s/it]\n",
      "  0%|          | 0/10 [00:00<?, ?it/s]\u001b[A"
     ]
    },
    {
     "name": "stdout",
     "output_type": "stream",
     "text": [
      "1.8605000000008178e-06\n"
     ]
    },
    {
     "name": "stderr",
     "output_type": "stream",
     "text": [
      "\n",
      " 10%|█         | 1/10 [00:09<01:26,  9.56s/it]\u001b[A\n",
      " 20%|██        | 2/10 [00:19<01:16,  9.55s/it]\u001b[A\n",
      " 30%|███       | 3/10 [00:28<01:06,  9.55s/it]\u001b[A\n",
      " 40%|████      | 4/10 [00:38<00:57,  9.58s/it]\u001b[A\n",
      " 50%|█████     | 5/10 [00:47<00:47,  9.59s/it]\u001b[A\n",
      " 60%|██████    | 6/10 [00:57<00:38,  9.60s/it]\u001b[A\n",
      " 70%|███████   | 7/10 [01:07<00:28,  9.61s/it]\u001b[A\n",
      " 80%|████████  | 8/10 [01:16<00:19,  9.60s/it]\u001b[A\n",
      " 90%|█████████ | 9/10 [01:26<00:09,  9.63s/it]\u001b[A\n",
      "100%|██████████| 10/10 [01:35<00:00,  9.60s/it]\u001b[A\n"
     ]
    },
    {
     "name": "stdout",
     "output_type": "stream",
     "text": [
      "0.0002410018873287789\n",
      "6.133700525017371e-05\n",
      "4.227136000018898e-05\n",
      "1.1424200000227001e-05\n",
      "4.120900000095575e-06\n"
     ]
    },
    {
     "name": "stderr",
     "output_type": "stream",
     "text": [
      " 50%|█████     | 5/10 [12:35<12:32, 150.42s/it]\n",
      "  0%|          | 0/10 [00:00<?, ?it/s]\u001b[A"
     ]
    },
    {
     "name": "stdout",
     "output_type": "stream",
     "text": [
      "9.679999999770917e-07\n"
     ]
    },
    {
     "name": "stderr",
     "output_type": "stream",
     "text": [
      "\n",
      " 10%|█         | 1/10 [00:09<01:27,  9.67s/it]\u001b[A\n",
      " 20%|██        | 2/10 [00:19<01:17,  9.63s/it]\u001b[A\n",
      " 30%|███       | 3/10 [00:28<01:07,  9.60s/it]\u001b[A\n",
      " 40%|████      | 4/10 [00:38<00:57,  9.61s/it]\u001b[A\n",
      " 50%|█████     | 5/10 [00:48<00:48,  9.66s/it]\u001b[A\n",
      " 60%|██████    | 6/10 [00:57<00:38,  9.70s/it]\u001b[A\n",
      " 70%|███████   | 7/10 [01:07<00:29,  9.70s/it]\u001b[A\n",
      " 80%|████████  | 8/10 [01:17<00:19,  9.66s/it]\u001b[A\n",
      " 90%|█████████ | 9/10 [01:26<00:09,  9.63s/it]\u001b[A\n",
      "100%|██████████| 10/10 [01:36<00:00,  9.64s/it]\u001b[A\n"
     ]
    },
    {
     "name": "stdout",
     "output_type": "stream",
     "text": [
      "0.0004360396982511434\n",
      "6.885770681023142e-05\n",
      "2.927530388171556e-05\n",
      "6.444050000205821e-06\n",
      "2.6569000002481492e-06\n"
     ]
    },
    {
     "name": "stderr",
     "output_type": "stream",
     "text": [
      " 60%|██████    | 6/10 [15:05<10:01, 150.25s/it]\n",
      "  0%|          | 0/10 [00:00<?, ?it/s]\u001b[A"
     ]
    },
    {
     "name": "stdout",
     "output_type": "stream",
     "text": [
      "8.000000000023808e-07\n"
     ]
    },
    {
     "name": "stderr",
     "output_type": "stream",
     "text": [
      "\n",
      " 10%|█         | 1/10 [00:09<01:27,  9.73s/it]\u001b[A\n",
      " 20%|██        | 2/10 [00:19<01:17,  9.72s/it]\u001b[A\n",
      " 30%|███       | 3/10 [00:28<01:07,  9.67s/it]\u001b[A\n",
      " 40%|████      | 4/10 [00:38<00:58,  9.68s/it]\u001b[A\n",
      " 50%|█████     | 5/10 [00:48<00:48,  9.64s/it]\u001b[A\n",
      " 60%|██████    | 6/10 [00:57<00:38,  9.66s/it]\u001b[A\n",
      " 70%|███████   | 7/10 [01:07<00:28,  9.64s/it]\u001b[A\n",
      " 80%|████████  | 8/10 [01:17<00:19,  9.65s/it]\u001b[A\n",
      " 90%|█████████ | 9/10 [01:26<00:09,  9.66s/it]\u001b[A\n",
      "100%|██████████| 10/10 [01:36<00:00,  9.66s/it]\u001b[A\n"
     ]
    },
    {
     "name": "stdout",
     "output_type": "stream",
     "text": [
      "0.00017203807127079694\n",
      "6.948984968230584e-05\n",
      "3.4079595064745516e-05\n",
      "1.0974796908650794e-05\n",
      "5.736213542348702e-06\n"
     ]
    },
    {
     "name": "stderr",
     "output_type": "stream",
     "text": [
      " 70%|███████   | 7/10 [17:35<07:30, 150.27s/it]\n",
      "  0%|          | 0/10 [00:00<?, ?it/s]\u001b[A"
     ]
    },
    {
     "name": "stdout",
     "output_type": "stream",
     "text": [
      "6.844999999980154e-07\n"
     ]
    },
    {
     "name": "stderr",
     "output_type": "stream",
     "text": [
      "\n",
      " 10%|█         | 1/10 [00:09<01:28,  9.79s/it]\u001b[A\n",
      " 20%|██        | 2/10 [00:19<01:18,  9.76s/it]\u001b[A\n",
      " 30%|███       | 3/10 [00:29<01:08,  9.74s/it]\u001b[A\n",
      " 40%|████      | 4/10 [00:38<00:58,  9.72s/it]\u001b[A\n",
      " 50%|█████     | 5/10 [00:48<00:48,  9.70s/it]\u001b[A\n",
      " 60%|██████    | 6/10 [00:58<00:38,  9.68s/it]\u001b[A\n",
      " 70%|███████   | 7/10 [01:07<00:29,  9.72s/it]\u001b[A\n",
      " 80%|████████  | 8/10 [01:17<00:19,  9.68s/it]\u001b[A\n",
      " 90%|█████████ | 9/10 [01:27<00:09,  9.68s/it]\u001b[A\n",
      "100%|██████████| 10/10 [01:36<00:00,  9.70s/it]\u001b[A\n"
     ]
    },
    {
     "name": "stdout",
     "output_type": "stream",
     "text": [
      "0.0004220296672289119\n",
      "6.635700559047539e-05\n",
      "3.0348272126571885e-05\n",
      "5.814049999991313e-06\n",
      "6.1062671721593085e-06\n"
     ]
    },
    {
     "name": "stderr",
     "output_type": "stream",
     "text": [
      " 80%|████████  | 8/10 [20:06<05:00, 150.35s/it]\n",
      "  0%|          | 0/10 [00:00<?, ?it/s]\u001b[A"
     ]
    },
    {
     "name": "stdout",
     "output_type": "stream",
     "text": [
      "6.845000000032945e-07\n"
     ]
    },
    {
     "name": "stderr",
     "output_type": "stream",
     "text": [
      "\n",
      " 10%|█         | 1/10 [00:09<01:26,  9.62s/it]\u001b[A\n",
      " 20%|██        | 2/10 [00:19<01:16,  9.61s/it]\u001b[A\n",
      " 30%|███       | 3/10 [00:28<01:07,  9.63s/it]\u001b[A\n",
      " 40%|████      | 4/10 [00:38<00:57,  9.65s/it]\u001b[A\n",
      " 50%|█████     | 5/10 [00:48<00:48,  9.67s/it]\u001b[A\n",
      " 60%|██████    | 6/10 [00:58<00:38,  9.75s/it]\u001b[A\n",
      " 70%|███████   | 7/10 [01:08<00:29,  9.78s/it]\u001b[A\n",
      " 80%|████████  | 8/10 [01:17<00:19,  9.81s/it]\u001b[A\n",
      " 90%|█████████ | 9/10 [01:27<00:09,  9.80s/it]\u001b[A\n",
      "100%|██████████| 10/10 [01:37<00:00,  9.75s/it]\u001b[A\n"
     ]
    },
    {
     "name": "stdout",
     "output_type": "stream",
     "text": [
      "0.00018006418466345135\n",
      "4.660244915844068e-05\n",
      "4.494399841449416e-05\n",
      "1.0857800000525421e-05\n",
      "4.928400000020256e-06\n"
     ]
    },
    {
     "name": "stderr",
     "output_type": "stream",
     "text": [
      " 90%|█████████ | 9/10 [22:37<02:30, 150.61s/it]\n",
      "  0%|          | 0/10 [00:00<?, ?it/s]\u001b[A"
     ]
    },
    {
     "name": "stdout",
     "output_type": "stream",
     "text": [
      "9.680000000023938e-07\n"
     ]
    },
    {
     "name": "stderr",
     "output_type": "stream",
     "text": [
      "\n",
      " 10%|█         | 1/10 [00:09<01:27,  9.75s/it]\u001b[A\n",
      " 20%|██        | 2/10 [00:19<01:17,  9.72s/it]\u001b[A\n",
      " 30%|███       | 3/10 [00:28<01:07,  9.68s/it]\u001b[A\n",
      " 40%|████      | 4/10 [00:38<00:57,  9.66s/it]\u001b[A\n",
      " 50%|█████     | 5/10 [00:48<00:48,  9.64s/it]\u001b[A\n",
      " 60%|██████    | 6/10 [00:57<00:38,  9.63s/it]\u001b[A\n",
      " 70%|███████   | 7/10 [01:07<00:29,  9.71s/it]\u001b[A\n",
      " 80%|████████  | 8/10 [01:17<00:19,  9.71s/it]\u001b[A\n",
      " 90%|█████████ | 9/10 [01:27<00:09,  9.70s/it]\u001b[A\n",
      "100%|██████████| 10/10 [01:36<00:00,  9.67s/it]\u001b[A\n"
     ]
    },
    {
     "name": "stdout",
     "output_type": "stream",
     "text": [
      "0.00044361407239391774\n",
      "8.763930834086078e-05\n",
      "3.239999999962841e-05\n",
      "1.0718450000026938e-05\n",
      "3.8025000000129626e-06\n"
     ]
    },
    {
     "name": "stderr",
     "output_type": "stream",
     "text": [
      "100%|██████████| 10/10 [25:07<00:00, 150.77s/it]"
     ]
    },
    {
     "name": "stdout",
     "output_type": "stream",
     "text": [
      "6.480000002008243e-07\n"
     ]
    },
    {
     "name": "stderr",
     "output_type": "stream",
     "text": [
      "\n"
     ]
    }
   ],
   "source": [
    "from matplotlib import pyplot as plt\n",
    "import numpy as np\n",
    "import matplotlib.pyplot as plt\n",
    "from numpy import linalg as LA\n",
    "from tqdm import tqdm\n",
    "from math import *\n",
    "from scipy.stats import norm\n",
    "from scipy.stats import multivariate_normal as mvn\n",
    "import numpy as np\n",
    "from sklearn.linear_model import LinearRegression\n",
    "from sklearn.metrics import mean_squared_error\n",
    "\n",
    "def davies_harte(T, N, H):\n",
    "    '''\n",
    "    Generates sample paths of fractional Brownian Motion using the Davies Harte method\n",
    "    \n",
    "    args:\n",
    "        T:      length of time\n",
    "        N:      number of time steps within timeframe\n",
    "        H:      Hurst parameter\n",
    "    '''\n",
    "    gamma = lambda k,H: 0.5*(np.abs(k-1)**(2*H) - 2*np.abs(k)**(2*H) + np.abs(k+1)**(2*H))  \n",
    "    g = [gamma(k,H) for k in range(0,N)];    r = g + [0] + g[::-1][0:N-1]\n",
    "\n",
    "    # Step 1 (eigenvalues)\n",
    "    j = np.arange(0,2*N);   k = 2*N-1\n",
    "    lk = np.fft.fft(r*np.exp(2*np.pi*complex(0,1)*k*j*(1/(2*N))))[::-1]\n",
    "\n",
    "    # Step 2 (get random variables)\n",
    "    Vj = np.zeros((2*N,2), dtype=np.complex); \n",
    "    Vj[0,0] = np.random.standard_normal();  Vj[N,0] = np.random.standard_normal()\n",
    "    \n",
    "    for i in range(1,N):\n",
    "        Vj1 = np.random.standard_normal();    Vj2 = np.random.standard_normal()\n",
    "        Vj[i][0] = Vj1; Vj[i][1] = Vj2; Vj[2*N-i][0] = Vj1;    Vj[2*N-i][1] = Vj2\n",
    "    \n",
    "    # Step 3 (compute Z)\n",
    "    wk = np.zeros(2*N, dtype=np.complex)   \n",
    "    wk[0] = np.sqrt((lk[0]/(2*N)))*Vj[0][0];          \n",
    "    wk[1:N] = np.sqrt(lk[1:N]/(4*N))*((Vj[1:N].T[0]) + (complex(0,1)*Vj[1:N].T[1]))       \n",
    "    wk[N] = np.sqrt((lk[0]/(2*N)))*Vj[N][0]       \n",
    "    wk[N+1:2*N] = np.sqrt(lk[N+1:2*N]/(4*N))*(np.flip(Vj[1:N].T[0]) - (complex(0,1)*np.flip(Vj[1:N].T[1])))\n",
    "    \n",
    "    Z = np.fft.fft(wk);     fGn = Z[0:N] \n",
    "    fBm = np.cumsum(fGn)*(N**(-H))\n",
    "    fBm = (T**H)*(fBm)\n",
    "    path = np.array([0] + list(fBm))\n",
    "    return path\n",
    "\n",
    "\n",
    "def fBm(MC,N,H):\n",
    "    '''\n",
    "    Generates many samples of paths of fractional Brownian Motion using the Davies Harte method\n",
    "    \n",
    "    args:\n",
    "        MC:     number of samples\n",
    "        N:      number of time steps within timeframe\n",
    "        H:      Hurst parameter\n",
    "    '''\n",
    "    B = [davies_harte(1, N, H) for i in tqdm(range(MC))]\n",
    "    B = np.real(np.array(B))\n",
    "    return B\n",
    "\n",
    "\n",
    "def drift(x,m, nature, dim):\n",
    "    '''\n",
    "    Generates an approximation of the drift evaluated on the array x\n",
    "    \n",
    "    args:\n",
    "        x:      array\n",
    "        m:      order of the approximation (high m = better approximation)\n",
    "        nature: type of drift (dirac, indicator function,...)\n",
    "        dim:    dimension\n",
    "    '''\n",
    "\n",
    "    if nature == 'void':\n",
    "        return 0\n",
    "    if nature == 'reg':\n",
    "        return -x\n",
    "    if nature == 'ind':\n",
    "        return norm.cdf(x,0,1/m)\n",
    "    if nature == 'dirac':\n",
    "        return sqrt(m/(2*pi)) * np.exp(-(x**2) * m /2)\n",
    "\n",
    "    \n",
    "    \n",
    "def Sde(size, true_size, approx, B, nature, dim, MC=1):\n",
    "    '''\n",
    "    Simulates the SDE via a Euler scheme\n",
    "    \n",
    "    args:\n",
    "        time_step\n",
    "        true_step: step used for the true solution\n",
    "        approx:    order of approximation of the drift\n",
    "        B:         fBm\n",
    "        nature:    nature of the drift\n",
    "        dim:       dimension\n",
    "        MC:        Monte-Carlo size\n",
    "    '''\n",
    "    time_step = 1/size\n",
    "    step = int(true_size/size)\n",
    "    s = np.zeros((MC,size+1))\n",
    "    for i in range(0,size):\n",
    "        s[:,i+1] = s[:,i] + time_step*drift(s[:,i],approx,nature,dim) + (B[:,(i+1)*step]-B[:,i*step])\n",
    "    return s\n",
    "\n",
    "\n",
    "\n",
    "def error(true_size, size_list, nature, scaling, H, dim, MC):\n",
    "    inf_h = 1/true_size\n",
    "    B = fBm(MC,true_size,H) \n",
    "    inf_m = true_size**(scaling)\n",
    "    \n",
    "    #Simulation of the true SDE\n",
    "    true_sde = Sde(true_size,true_size,inf_m,B,nature,dim, MC)\n",
    "    \n",
    "    error=[]\n",
    "    #sd= []\n",
    "    for size in size_list:\n",
    "        h = 1/size\n",
    "        m = size**(scaling)\n",
    "        index = np.linspace(0,true_size,size+1)\n",
    "        index = [ int(index[i]) for i in range(size+1)] \n",
    "        true_sde_interpol = true_sde[:, index]\n",
    "        #Simulation of SDE with time step h\n",
    "        h_sde = Sde(size, true_size, m, B, nature, dim, MC)\n",
    "        Ech = h_sde-true_sde_interpol\n",
    "        S = np.mean(Ech, axis=0)\n",
    "        incr = [(S[i+1]-S[i])**2 for i in range(len(S)-1)]\n",
    "        incr = np.array(incr)*(size)\n",
    "        res = np.max(incr)\n",
    "        print(res)\n",
    "        error.append(res)\n",
    "    return error\n",
    "\n",
    "\n",
    "\n",
    "#Fixing the parameters\n",
    "\n",
    "\n",
    "true_size = 1000000 #time-step for true solution\n",
    "MC= 10 #Monte-Carlo \n",
    "H = 0.4 #Hurst parameter\n",
    "#hlist = [0.1]\n",
    "size_list = [100, 500, 1000, 5000, 10000, 50000] #list of time steps\n",
    "nature = 'ind' #drift\n",
    "scaling = 1\n",
    "dim = 1 #dimension\n",
    "\n",
    "#Running an example\n",
    "MC2 = 10\n",
    "e = np.zeros((MC2,len(size_list)))\n",
    "for i in tqdm(range(MC2)):\n",
    "    e[i,:] = error(true_size,size_list,nature, scaling, H,dim,MC)"
   ]
  },
  {
   "cell_type": "code",
   "execution_count": 2,
   "metadata": {},
   "outputs": [
    {
     "name": "stdout",
     "output_type": "stream",
     "text": [
      "[3.27329858e-04 7.86489926e-05 3.88482778e-05 8.71300969e-06\n",
      " 4.64984194e-06 9.75800000e-07]\n",
      "[1.15666267e-04 2.40403858e-05 7.41786148e-06 2.05753673e-06\n",
      " 9.93755069e-07 3.42960143e-07]\n"
     ]
    },
    {
     "data": {
      "image/png": "[encoded data removed]",
      "text/plain": [
       "<Figure size 432x288 with 1 Axes>"
      ]
     },
     "metadata": {
      "needs_background": "light"
     },
     "output_type": "display_data"
    }
   ],
   "source": [
    "for i in range(len(size_list)):\n",
    "    plt.hist(e[:,i])\n",
    "print(np.mean(e, axis=0))\n",
    "print(np.sqrt(np.var(e, axis=0)))"
   ]
  },
  {
   "cell_type": "code",
   "execution_count": 3,
   "metadata": {},
   "outputs": [
    {
     "name": "stdout",
     "output_type": "stream",
     "text": [
      "[0.46844805]\n"
     ]
    },
    {
     "data": {
      "image/png": "[encoded data removed]",
      "text/plain": [
       "<Figure size 432x288 with 1 Axes>"
      ]
     },
     "metadata": {
      "needs_background": "light"
     },
     "output_type": "display_data"
    }
   ],
   "source": [
    "res = np.mean(e, axis=0)\n",
    "err = np.sqrt(np.var(e, axis=0))\n",
    "plt.loglog(size_list,res)\n",
    "plt.errorbar(size_list, res, yerr= err)\n",
    "reg = LinearRegression().fit(np.log(np.array(size_list)).reshape(-1,1), np.log(np.array(res)).reshape(-1,1))\n",
    "print(-reg.coef_[0]/2)"
   ]
  },
  {
   "cell_type": "code",
   "execution_count": null,
   "metadata": {},
   "outputs": [],
   "source": []
  }
 ],
 "metadata": {
  "kernelspec": {
   "display_name": "Python 3",
   "language": "python",
   "name": "python3"
  },
  "language_info": {
   "codemirror_mode": {
    "name": "ipython",
    "version": 3
   },
   "file_extension": ".py",
   "mimetype": "text/x-python",
   "name": "python",
   "nbconvert_exporter": "python",
   "pygments_lexer": "ipython3",
   "version": "3.8.5"
  }
 },
 "nbformat": 4,
 "nbformat_minor": 4
}
